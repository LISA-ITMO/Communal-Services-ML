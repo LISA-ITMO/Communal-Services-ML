{
  "nbformat": 4,
  "nbformat_minor": 0,
  "metadata": {
    "colab": {
      "provenance": []
    },
    "kernelspec": {
      "name": "python3",
      "display_name": "Python 3"
    },
    "language_info": {
      "name": "python"
    }
  },
  "cells": [
    {
      "cell_type": "markdown",
      "source": [
        "# Set Up"
      ],
      "metadata": {
        "id": "Ws-JduJsoAZP"
      }
    },
    {
      "cell_type": "markdown",
      "source": [
        "## Utilities"
      ],
      "metadata": {
        "id": "PlpNE2OHZdQM"
      }
    },
    {
      "cell_type": "code",
      "source": [
        "!pip install numpy==1.26.4\n",
        "!mkdir -p Assets/models"
      ],
      "metadata": {
        "colab": {
          "base_uri": "https://localhost:8080/"
        },
        "id": "Cq8GyGFPns3J",
        "outputId": "11f43f1b-6881-491b-8492-bcadeb0e8a2b"
      },
      "execution_count": 1,
      "outputs": [
        {
          "output_type": "stream",
          "name": "stdout",
          "text": [
            "Requirement already satisfied: numpy==1.26.4 in /usr/local/lib/python3.11/dist-packages (1.26.4)\n"
          ]
        }
      ]
    },
    {
      "cell_type": "code",
      "execution_count": 2,
      "metadata": {
        "id": "q5cQp3mrcbLY"
      },
      "outputs": [],
      "source": [
        "import pandas as pd\n",
        "import numpy as np\n",
        "import json\n",
        "from sklearn.metrics import accuracy_score, f1_score\n",
        "\n",
        "\n",
        "def roc_auc_multiclass(labels, probabilities):\n",
        "    \"\"\"\n",
        "    Compute the multi-class ROC AUC using the One-Versus-Rest approach.\n",
        "\n",
        "    Parameters:\n",
        "    - labels: (955,) array with true class indices (values from 0 to 108)\n",
        "    - probabilities: (955, 109) array with predicted probabilities for each class\n",
        "\n",
        "    Returns:\n",
        "    - Macro-averaged ROC AUC score\n",
        "    \"\"\"\n",
        "    num_classes = probabilities.shape[1]  # Should be 109 classes\n",
        "    labels_one_hot = np.eye(num_classes)[labels]  # Convert labels to one-hot encoding (955, 109)\n",
        "\n",
        "    aucs = []  # List to store AUC for each class\n",
        "\n",
        "    for i in range(num_classes):\n",
        "        # True labels for class i (binary: 1 if true class, 0 otherwise)\n",
        "        y_true = labels_one_hot[:, i]  # Shape: (955,)\n",
        "\n",
        "        # Predicted probabilities for class i\n",
        "        y_score = probabilities[:, i]  # Shape: (955,)\n",
        "\n",
        "        # **Check if class i is missing in the batch**\n",
        "        num_positives = np.sum(y_true)\n",
        "        num_negatives = len(y_true) - num_positives\n",
        "\n",
        "        if num_positives == 0 or num_negatives == 0:\n",
        "            aucs.append(0.5)  # If only one class is present, set AUC to 0.5 (random chance)\n",
        "            continue  # Skip further computation\n",
        "\n",
        "        # Sort by predicted score (descending order)\n",
        "        sorted_indices = np.argsort(-y_score)\n",
        "        y_true_sorted = y_true[sorted_indices]\n",
        "\n",
        "        # Compute TPR and FPR\n",
        "        cum_positive = np.cumsum(y_true_sorted)\n",
        "        cum_negative = np.cumsum(1 - y_true_sorted)\n",
        "\n",
        "        TPR = cum_positive / num_positives  # True positive rate\n",
        "        FPR = cum_negative / num_negatives  # False positive rate\n",
        "\n",
        "        auc = np.trapz(TPR, FPR)  # Compute AUC using trapezoidal rule\n",
        "        aucs.append(auc)\n",
        "\n",
        "    return np.mean(aucs)  # Macro-averaged AUC over all classes"
      ]
    },
    {
      "cell_type": "markdown",
      "source": [
        "## Load Data"
      ],
      "metadata": {
        "id": "5UPYYgxjgJD-"
      }
    },
    {
      "cell_type": "code",
      "source": [
        "ALL_DATA = {\n",
        "    \"FastText\": {},\n",
        "    \"Naive Bayes\": {},\n",
        "    \"Decision Tree\": {},\n",
        "    \"Support Vector\": {}\n",
        "    }\n",
        "\n",
        "data = pd.read_csv('Database/clean_data.csv', sep=';', encoding='utf-8')\n",
        "\n",
        "with open(\"Assets/converter.json\", \"r\", encoding=\"utf-8\") as f:\n",
        "    converter = json.load(f)\n",
        "\n",
        "label2id = converter[\"label2id_reduced\"]\n",
        "id2label = converter[\"id2label_reduced\"]\n",
        "\n",
        "data['label'] = data[\"detailed_topic\"].map(label2id)\n",
        "\n",
        "num_labels = len(label2id)\n",
        "\n",
        "data.head()"
      ],
      "metadata": {
        "colab": {
          "base_uri": "https://localhost:8080/",
          "height": 206
        },
        "id": "T3j3HaFBLK-h",
        "outputId": "25cf4e1f-91e2-4b45-c5ac-b137581c3caf"
      },
      "execution_count": 30,
      "outputs": [
        {
          "output_type": "execute_result",
          "data": {
            "text/plain": [
              "                                      detailed_topic  \\\n",
              "0           содержание л/клеток, дворовых территорий   \n",
              "1  ПРАВИЛА ПОЛЬЗОВАНИЯ ЖИЛЫМИ ПОМЕЩЕНИЯМИ (ПЕРЕПЛ...   \n",
              "2                                             фасады   \n",
              "3           содержание л/клеток, дворовых территорий   \n",
              "4                                            подвалы   \n",
              "\n",
              "                                              appeal  label  \n",
              "0   ЗАЯВЛЕНИЕ нарушение периодичности проведения ...      1  \n",
              "1  \\nДобрый день,Прошу рассмотреть по существу жа...     11  \n",
              "2  \\nИнформирую вас, что с 08.04.2024 в МЖД по ад...     12  \n",
              "3  \\nКоллективная жалоба на факт нарушения ТСЖ\"Ко...      1  \n",
              "4   Прошу рассмотреть прилагающееся заявление о в...     14  "
            ],
            "text/html": [
              "\n",
              "  <div id=\"df-43928911-85de-4660-b1dd-af8292431387\" class=\"colab-df-container\">\n",
              "    <div>\n",
              "<style scoped>\n",
              "    .dataframe tbody tr th:only-of-type {\n",
              "        vertical-align: middle;\n",
              "    }\n",
              "\n",
              "    .dataframe tbody tr th {\n",
              "        vertical-align: top;\n",
              "    }\n",
              "\n",
              "    .dataframe thead th {\n",
              "        text-align: right;\n",
              "    }\n",
              "</style>\n",
              "<table border=\"1\" class=\"dataframe\">\n",
              "  <thead>\n",
              "    <tr style=\"text-align: right;\">\n",
              "      <th></th>\n",
              "      <th>detailed_topic</th>\n",
              "      <th>appeal</th>\n",
              "      <th>label</th>\n",
              "    </tr>\n",
              "  </thead>\n",
              "  <tbody>\n",
              "    <tr>\n",
              "      <th>0</th>\n",
              "      <td>содержание л/клеток, дворовых территорий</td>\n",
              "      <td>ЗАЯВЛЕНИЕ нарушение периодичности проведения ...</td>\n",
              "      <td>1</td>\n",
              "    </tr>\n",
              "    <tr>\n",
              "      <th>1</th>\n",
              "      <td>ПРАВИЛА ПОЛЬЗОВАНИЯ ЖИЛЫМИ ПОМЕЩЕНИЯМИ (ПЕРЕПЛ...</td>\n",
              "      <td>\\nДобрый день,Прошу рассмотреть по существу жа...</td>\n",
              "      <td>11</td>\n",
              "    </tr>\n",
              "    <tr>\n",
              "      <th>2</th>\n",
              "      <td>фасады</td>\n",
              "      <td>\\nИнформирую вас, что с 08.04.2024 в МЖД по ад...</td>\n",
              "      <td>12</td>\n",
              "    </tr>\n",
              "    <tr>\n",
              "      <th>3</th>\n",
              "      <td>содержание л/клеток, дворовых территорий</td>\n",
              "      <td>\\nКоллективная жалоба на факт нарушения ТСЖ\"Ко...</td>\n",
              "      <td>1</td>\n",
              "    </tr>\n",
              "    <tr>\n",
              "      <th>4</th>\n",
              "      <td>подвалы</td>\n",
              "      <td>Прошу рассмотреть прилагающееся заявление о в...</td>\n",
              "      <td>14</td>\n",
              "    </tr>\n",
              "  </tbody>\n",
              "</table>\n",
              "</div>\n",
              "    <div class=\"colab-df-buttons\">\n",
              "\n",
              "  <div class=\"colab-df-container\">\n",
              "    <button class=\"colab-df-convert\" onclick=\"convertToInteractive('df-43928911-85de-4660-b1dd-af8292431387')\"\n",
              "            title=\"Convert this dataframe to an interactive table.\"\n",
              "            style=\"display:none;\">\n",
              "\n",
              "  <svg xmlns=\"http://www.w3.org/2000/svg\" height=\"24px\" viewBox=\"0 -960 960 960\">\n",
              "    <path d=\"M120-120v-720h720v720H120Zm60-500h600v-160H180v160Zm220 220h160v-160H400v160Zm0 220h160v-160H400v160ZM180-400h160v-160H180v160Zm440 0h160v-160H620v160ZM180-180h160v-160H180v160Zm440 0h160v-160H620v160Z\"/>\n",
              "  </svg>\n",
              "    </button>\n",
              "\n",
              "  <style>\n",
              "    .colab-df-container {\n",
              "      display:flex;\n",
              "      gap: 12px;\n",
              "    }\n",
              "\n",
              "    .colab-df-convert {\n",
              "      background-color: #E8F0FE;\n",
              "      border: none;\n",
              "      border-radius: 50%;\n",
              "      cursor: pointer;\n",
              "      display: none;\n",
              "      fill: #1967D2;\n",
              "      height: 32px;\n",
              "      padding: 0 0 0 0;\n",
              "      width: 32px;\n",
              "    }\n",
              "\n",
              "    .colab-df-convert:hover {\n",
              "      background-color: #E2EBFA;\n",
              "      box-shadow: 0px 1px 2px rgba(60, 64, 67, 0.3), 0px 1px 3px 1px rgba(60, 64, 67, 0.15);\n",
              "      fill: #174EA6;\n",
              "    }\n",
              "\n",
              "    .colab-df-buttons div {\n",
              "      margin-bottom: 4px;\n",
              "    }\n",
              "\n",
              "    [theme=dark] .colab-df-convert {\n",
              "      background-color: #3B4455;\n",
              "      fill: #D2E3FC;\n",
              "    }\n",
              "\n",
              "    [theme=dark] .colab-df-convert:hover {\n",
              "      background-color: #434B5C;\n",
              "      box-shadow: 0px 1px 3px 1px rgba(0, 0, 0, 0.15);\n",
              "      filter: drop-shadow(0px 1px 2px rgba(0, 0, 0, 0.3));\n",
              "      fill: #FFFFFF;\n",
              "    }\n",
              "  </style>\n",
              "\n",
              "    <script>\n",
              "      const buttonEl =\n",
              "        document.querySelector('#df-43928911-85de-4660-b1dd-af8292431387 button.colab-df-convert');\n",
              "      buttonEl.style.display =\n",
              "        google.colab.kernel.accessAllowed ? 'block' : 'none';\n",
              "\n",
              "      async function convertToInteractive(key) {\n",
              "        const element = document.querySelector('#df-43928911-85de-4660-b1dd-af8292431387');\n",
              "        const dataTable =\n",
              "          await google.colab.kernel.invokeFunction('convertToInteractive',\n",
              "                                                    [key], {});\n",
              "        if (!dataTable) return;\n",
              "\n",
              "        const docLinkHtml = 'Like what you see? Visit the ' +\n",
              "          '<a target=\"_blank\" href=https://colab.research.google.com/notebooks/data_table.ipynb>data table notebook</a>'\n",
              "          + ' to learn more about interactive tables.';\n",
              "        element.innerHTML = '';\n",
              "        dataTable['output_type'] = 'display_data';\n",
              "        await google.colab.output.renderOutput(dataTable, element);\n",
              "        const docLink = document.createElement('div');\n",
              "        docLink.innerHTML = docLinkHtml;\n",
              "        element.appendChild(docLink);\n",
              "      }\n",
              "    </script>\n",
              "  </div>\n",
              "\n",
              "\n",
              "    <div id=\"df-6de1d0dd-c21c-4775-bafb-3a3041b2774b\">\n",
              "      <button class=\"colab-df-quickchart\" onclick=\"quickchart('df-6de1d0dd-c21c-4775-bafb-3a3041b2774b')\"\n",
              "                title=\"Suggest charts\"\n",
              "                style=\"display:none;\">\n",
              "\n",
              "<svg xmlns=\"http://www.w3.org/2000/svg\" height=\"24px\"viewBox=\"0 0 24 24\"\n",
              "     width=\"24px\">\n",
              "    <g>\n",
              "        <path d=\"M19 3H5c-1.1 0-2 .9-2 2v14c0 1.1.9 2 2 2h14c1.1 0 2-.9 2-2V5c0-1.1-.9-2-2-2zM9 17H7v-7h2v7zm4 0h-2V7h2v10zm4 0h-2v-4h2v4z\"/>\n",
              "    </g>\n",
              "</svg>\n",
              "      </button>\n",
              "\n",
              "<style>\n",
              "  .colab-df-quickchart {\n",
              "      --bg-color: #E8F0FE;\n",
              "      --fill-color: #1967D2;\n",
              "      --hover-bg-color: #E2EBFA;\n",
              "      --hover-fill-color: #174EA6;\n",
              "      --disabled-fill-color: #AAA;\n",
              "      --disabled-bg-color: #DDD;\n",
              "  }\n",
              "\n",
              "  [theme=dark] .colab-df-quickchart {\n",
              "      --bg-color: #3B4455;\n",
              "      --fill-color: #D2E3FC;\n",
              "      --hover-bg-color: #434B5C;\n",
              "      --hover-fill-color: #FFFFFF;\n",
              "      --disabled-bg-color: #3B4455;\n",
              "      --disabled-fill-color: #666;\n",
              "  }\n",
              "\n",
              "  .colab-df-quickchart {\n",
              "    background-color: var(--bg-color);\n",
              "    border: none;\n",
              "    border-radius: 50%;\n",
              "    cursor: pointer;\n",
              "    display: none;\n",
              "    fill: var(--fill-color);\n",
              "    height: 32px;\n",
              "    padding: 0;\n",
              "    width: 32px;\n",
              "  }\n",
              "\n",
              "  .colab-df-quickchart:hover {\n",
              "    background-color: var(--hover-bg-color);\n",
              "    box-shadow: 0 1px 2px rgba(60, 64, 67, 0.3), 0 1px 3px 1px rgba(60, 64, 67, 0.15);\n",
              "    fill: var(--button-hover-fill-color);\n",
              "  }\n",
              "\n",
              "  .colab-df-quickchart-complete:disabled,\n",
              "  .colab-df-quickchart-complete:disabled:hover {\n",
              "    background-color: var(--disabled-bg-color);\n",
              "    fill: var(--disabled-fill-color);\n",
              "    box-shadow: none;\n",
              "  }\n",
              "\n",
              "  .colab-df-spinner {\n",
              "    border: 2px solid var(--fill-color);\n",
              "    border-color: transparent;\n",
              "    border-bottom-color: var(--fill-color);\n",
              "    animation:\n",
              "      spin 1s steps(1) infinite;\n",
              "  }\n",
              "\n",
              "  @keyframes spin {\n",
              "    0% {\n",
              "      border-color: transparent;\n",
              "      border-bottom-color: var(--fill-color);\n",
              "      border-left-color: var(--fill-color);\n",
              "    }\n",
              "    20% {\n",
              "      border-color: transparent;\n",
              "      border-left-color: var(--fill-color);\n",
              "      border-top-color: var(--fill-color);\n",
              "    }\n",
              "    30% {\n",
              "      border-color: transparent;\n",
              "      border-left-color: var(--fill-color);\n",
              "      border-top-color: var(--fill-color);\n",
              "      border-right-color: var(--fill-color);\n",
              "    }\n",
              "    40% {\n",
              "      border-color: transparent;\n",
              "      border-right-color: var(--fill-color);\n",
              "      border-top-color: var(--fill-color);\n",
              "    }\n",
              "    60% {\n",
              "      border-color: transparent;\n",
              "      border-right-color: var(--fill-color);\n",
              "    }\n",
              "    80% {\n",
              "      border-color: transparent;\n",
              "      border-right-color: var(--fill-color);\n",
              "      border-bottom-color: var(--fill-color);\n",
              "    }\n",
              "    90% {\n",
              "      border-color: transparent;\n",
              "      border-bottom-color: var(--fill-color);\n",
              "    }\n",
              "  }\n",
              "</style>\n",
              "\n",
              "      <script>\n",
              "        async function quickchart(key) {\n",
              "          const quickchartButtonEl =\n",
              "            document.querySelector('#' + key + ' button');\n",
              "          quickchartButtonEl.disabled = true;  // To prevent multiple clicks.\n",
              "          quickchartButtonEl.classList.add('colab-df-spinner');\n",
              "          try {\n",
              "            const charts = await google.colab.kernel.invokeFunction(\n",
              "                'suggestCharts', [key], {});\n",
              "          } catch (error) {\n",
              "            console.error('Error during call to suggestCharts:', error);\n",
              "          }\n",
              "          quickchartButtonEl.classList.remove('colab-df-spinner');\n",
              "          quickchartButtonEl.classList.add('colab-df-quickchart-complete');\n",
              "        }\n",
              "        (() => {\n",
              "          let quickchartButtonEl =\n",
              "            document.querySelector('#df-6de1d0dd-c21c-4775-bafb-3a3041b2774b button');\n",
              "          quickchartButtonEl.style.display =\n",
              "            google.colab.kernel.accessAllowed ? 'block' : 'none';\n",
              "        })();\n",
              "      </script>\n",
              "    </div>\n",
              "\n",
              "    </div>\n",
              "  </div>\n"
            ],
            "application/vnd.google.colaboratory.intrinsic+json": {
              "type": "dataframe",
              "variable_name": "data",
              "summary": "{\n  \"name\": \"data\",\n  \"rows\": 4772,\n  \"fields\": [\n    {\n      \"column\": \"detailed_topic\",\n      \"properties\": {\n        \"dtype\": \"category\",\n        \"num_unique_values\": 36,\n        \"samples\": [\n          \"\\u041d\\u0435\\u0441\\u043e\\u0433\\u043b\\u0430\\u0441\\u0438\\u0435 \\u0441 \\u043e\\u0442\\u0432\\u0435\\u0442\\u043e\\u043c \\u0423\\u041a, \\u0422\\u0421\\u0416, \\u0416\\u0421\\u041a (\\u043f\\u0435\\u0440\\u0435\\u0440\\u0430\\u0441\\u0447\\u0435\\u0442 \\u0441\\u0442\\u043e\\u0438\\u043c\\u043e\\u0441\\u0442\\u0438 \\u041a\\u0423)\",\n          \"\\u043b\\u0438\\u0444\\u0442\\u044b\",\n          \"\\u0411\\u041e\\u0420\\u042c\\u0411\\u0410 \\u0421 \\u0410\\u041d\\u0422\\u0418\\u0421\\u0410\\u041d\\u0418\\u0422\\u0410\\u0420\\u0418\\u0415\\u0419. \\u0423\\u0411\\u041e\\u0420\\u041a\\u0410 \\u041c\\u0423\\u0421\\u041e\\u0420\\u0410\"\n        ],\n        \"semantic_type\": \"\",\n        \"description\": \"\"\n      }\n    },\n    {\n      \"column\": \"appeal\",\n      \"properties\": {\n        \"dtype\": \"string\",\n        \"num_unique_values\": 4565,\n        \"samples\": [\n          \" 17.09.2024 \\u0432 21:20 \\u044f \\u043d\\u0430\\u043f\\u0440\\u0430\\u0432\\u0438\\u043b \\u0432 \\u0443\\u043f\\u0440\\u0430\\u0432\\u043b\\u044f\\u044e\\u0449\\u0443\\u044e \\u043e\\u0440\\u0433\\u0430\\u043d\\u0438\\u0437\\u0430\\u0446\\u0438\\u044e \\u041e\\u0411\\u0429\\u0415\\u0421\\u0422\\u0412\\u041e \\u0421 \\u041e\\u0413\\u0420\\u0410\\u041d\\u0418\\u0427\\u0415\\u041d\\u041d\\u041e\\u0419 \\u041e\\u0422\\u0412\\u0415\\u0422\\u0421\\u0422\\u0412\\u0415\\u041d\\u041d\\u041e\\u0421\\u0422\\u042c\\u042e \\\"\\u0423\\u041f\\u0420\\u0410\\u0412\\u041b\\u042f\\u042e\\u0429\\u0410\\u042f \\u041a\\u041e\\u041c\\u041f\\u0410\\u041d\\u0418\\u042f \\u041e\\u041a\\u0422\\u0410\\u0412\\u0418\\u042f\\\" \\u0437\\u0430\\u043f\\u0440\\u043e\\u0441 \\u043f\\u043e \\u0442\\u0435\\u043c\\u0435 \\u0421\\u043e\\u0434\\u0435\\u0440\\u0436\\u0430\\u043d\\u0438\\u0435 \\u0434\\u0435\\u0442\\u0441\\u043a\\u043e\\u0439/\\u0441\\u043f\\u043e\\u0440\\u0442\\u0438\\u0432\\u043d\\u043e\\u0439 \\u043f\\u043b\\u043e\\u0449\\u0430\\u0434\\u043a\\u0438. 01.10.2024 18:00 \\u0437\\u0430\\u044f\\u0432\\u043a\\u0430 \\u043f\\u0435\\u0440\\u0435\\u0448\\u043b\\u0430 \\u0432 \\u0441\\u0442\\u0430\\u0442\\u0443\\u0441 \\\"\\u0418\\u0441\\u043f\\u043e\\u043b\\u043d\\u0435\\u043d\\u0430\\\", \\u043d\\u043e \\u043c\\u043d\\u0435 \\u043f\\u043e\\u0441\\u0442\\u0443\\u043f\\u0438\\u043b \\u043d\\u0435\\u0443\\u0434\\u043e\\u0432\\u043b\\u0435\\u0442\\u0432\\u043e\\u0440\\u0438\\u0442\\u0435\\u043b\\u044c\\u043d\\u044b\\u0439 \\u043e\\u0442\\u0432\\u0435\\u0442. (\\u041d\\u0430\\u043f\\u0438\\u0448\\u0438\\u0442\\u0435, \\u043f\\u043e\\u0447\\u0435\\u043c\\u0443 \\u0432\\u0430\\u0441 \\u043d\\u0435 \\u0443\\u0441\\u0442\\u0440\\u0430\\u0438\\u0432\\u0430\\u0435\\u0442 \\u043e\\u0442\\u0432\\u0435\\u0442 - \\u043d\\u0430\\u043f\\u0440\\u0438\\u043c\\u0435\\u0440, \\u043e\\u0442\\u0432\\u0435\\u0442 \\u043d\\u0430\\u043f\\u0440\\u0430\\u0432\\u043b\\u0435\\u043d \\u0441 \\u043d\\u0430\\u0440\\u0443\\u0448\\u0435\\u043d\\u0438\\u0435\\u043c \\u0441\\u0440\\u043e\\u043a\\u043e\\u0432, \\u043d\\u0435 \\u043f\\u0440\\u043e\\u0432\\u0435\\u0434\\u0435\\u043d\\u044b \\u043c\\u0435\\u0440\\u043e\\u043f\\u0440\\u0438\\u044f\\u0442\\u0438\\u044f \\u043f\\u043e \\u0443\\u0441\\u0442\\u0440\\u0430\\u043d\\u0435\\u043d\\u0438\\u044e \\u043f\\u0440\\u043e\\u0431\\u043b\\u0435\\u043c\\u044b \\u0438\\u043b\\u0438 \\u043d\\u0435 \\u0443\\u0441\\u0442\\u0440\\u0430\\u0438\\u0432\\u0430\\u0435\\u0442 \\u043a\\u0430\\u0447\\u0435\\u0441\\u0442\\u0432\\u043e \\u043f\\u0440\\u043e\\u0432\\u0435\\u0434\\u0435\\u043d\\u043d\\u044b\\u0445 \\u0440\\u0430\\u0431\\u043e\\u0442). \\u0412 \\u0441\\u0432\\u044f\\u0437\\u0438 \\u0441 \\u044d\\u0442\\u0438\\u043c \\u043f\\u0440\\u043e\\u0448\\u0443 \\u043f\\u0440\\u0438\\u043d\\u044f\\u0442\\u044c \\u043c\\u0435\\u0440\\u044b, \\u043d\\u0430\\u043f\\u0440\\u0430\\u0432\\u043b\\u0435\\u043d\\u043d\\u044b\\u0435 \\u043d\\u0430 \\u0443\\u0441\\u0442\\u0440\\u0430\\u043d\\u0435\\u043d\\u0438\\u0435 \\u043d\\u0430\\u0440\\u0443\\u0448\\u0435\\u043d\\u0438\\u0439 \\u043c\\u043e\\u0438\\u0445 \\u043f\\u0440\\u0430\\u0432 \\u0438 \\u0440\\u0435\\u0448\\u0435\\u043d\\u0438\\u044f \\u043e\\u0431\\u043e\\u0437\\u043d\\u0430\\u0447\\u0435\\u043d\\u043d\\u043e\\u0439 \\u043c\\u043d\\u043e\\u044e \\u043f\\u0440\\u043e\\u0431\\u043b\\u0435\\u043c\\u044b \\u041f\\u043e\\u043b\\u044c\\u0437\\u043e\\u0432\\u0430\\u0442\\u0435\\u043b\\u044c \\u0432\\u044b\\u0440\\u0430\\u0437\\u0438\\u043b \\u0436\\u0435\\u043b\\u0430\\u043d\\u0438\\u0435 \\u043f\\u043e\\u043c\\u043e\\u0447\\u044c \\u0413\\u043e\\u0441\\u0443\\u0434\\u0430\\u0440\\u0441\\u0442\\u0432\\u0435\\u043d\\u043d\\u043e\\u0439 \\u0436\\u0438\\u043b\\u0438\\u0449\\u043d\\u043e\\u0439 \\u0438\\u043d\\u0441\\u043f\\u0435\\u043a\\u0446\\u0438\\u0438 \\u0432 \\u043f\\u0440\\u043e\\u0432\\u0435\\u0440\\u043a\\u0435 \\u0438\\u0441\\u043f\\u043e\\u043b\\u043d\\u0435\\u043d\\u0438\\u044f \\u0437\\u0430\\u044f\\u0432\\u043a\\u0438  \",\n          \" 03.10.2024 \\u0432 06:05 \\u044f \\u043d\\u0430\\u043f\\u0440\\u0430\\u0432\\u0438\\u043b \\u0432 \\u0443\\u043f\\u0440\\u0430\\u0432\\u043b\\u044f\\u044e\\u0449\\u0443\\u044e \\u043e\\u0440\\u0433\\u0430\\u043d\\u0438\\u0437\\u0430\\u0446\\u0438\\u044e \\u041e\\u0411\\u0429\\u0415\\u0421\\u0422\\u0412\\u041e \\u0421 \\u041e\\u0413\\u0420\\u0410\\u041d\\u0418\\u0427\\u0415\\u041d\\u041d\\u041e\\u0419 \\u041e\\u0422\\u0412\\u0415\\u0422\\u0421\\u0422\\u0412\\u0415\\u041d\\u041d\\u041e\\u0421\\u0422\\u042c\\u042e \\\"\\u0416\\u0418\\u041b\\u041a\\u041e\\u041c\\u0421\\u0415\\u0420\\u0412\\u0418\\u0421 \\u2116 1 \\u041a\\u0420\\u0410\\u0421\\u041d\\u041e\\u0421\\u0415\\u041b\\u042c\\u0421\\u041a\\u041e\\u0413\\u041e \\u0420\\u0410\\u0419\\u041e\\u041d\\u0410\\\" \\u0437\\u0430\\u043f\\u0440\\u043e\\u0441 \\u043f\\u043e \\u0442\\u0435\\u043c\\u0435 \\u041f\\u0440\\u043e\\u0431\\u043b\\u0435\\u043c\\u044b \\u0441 \\u0443\\u0431\\u043e\\u0440\\u043a\\u043e\\u0439 \\u043f\\u043e\\u0434\\u044a\\u0435\\u0437\\u0434\\u0430. 07.10.2024 17:21 \\u0437\\u0430\\u044f\\u0432\\u043a\\u0430 \\u043f\\u0435\\u0440\\u0435\\u0448\\u043b\\u0430 \\u0432 \\u0441\\u0442\\u0430\\u0442\\u0443\\u0441 \\\"\\u0418\\u0441\\u043f\\u043e\\u043b\\u043d\\u0435\\u043d\\u0430\\\", \\u043d\\u043e \\u043c\\u043d\\u0435 \\u043f\\u043e\\u0441\\u0442\\u0443\\u043f\\u0438\\u043b \\u043d\\u0435\\u0443\\u0434\\u043e\\u0432\\u043b\\u0435\\u0442\\u0432\\u043e\\u0440\\u0438\\u0442\\u0435\\u043b\\u044c\\u043d\\u044b\\u0439 \\u043e\\u0442\\u0432\\u0435\\u0442. (\\u041d\\u0430\\u043f\\u0438\\u0448\\u0438\\u0442\\u0435, \\u043f\\u043e\\u0447\\u0435\\u043c\\u0443 \\u0432\\u0430\\u0441 \\u043d\\u0435 \\u0443\\u0441\\u0442\\u0440\\u0430\\u0438\\u0432\\u0430\\u0435\\u0442 \\u043e\\u0442\\u0432\\u0435\\u0442 - \\u0442\\u0430\\u043a \\u043a\\u0430\\u043a \\u0443\\u0431\\u043e\\u0440\\u043a\\u0443 \\u043d\\u0438\\u043a\\u0442\\u043e \\u043d\\u0435 \\u0434\\u0435\\u043b\\u0430\\u043b \\u0432\\u043e\\u043e\\u0431\\u0449\\u0435). \\u0412 \\u0441\\u0432\\u044f\\u0437\\u0438 \\u0441 \\u044d\\u0442\\u0438\\u043c \\u043f\\u0440\\u043e\\u0448\\u0443 \\u043f\\u0440\\u0438\\u043d\\u044f\\u0442\\u044c \\u043c\\u0435\\u0440\\u044b, \\u043d\\u0430\\u043f\\u0440\\u0430\\u0432\\u043b\\u0435\\u043d\\u043d\\u044b\\u0435 \\u043d\\u0430 \\u0443\\u0441\\u0442\\u0440\\u0430\\u043d\\u0435\\u043d\\u0438\\u0435 \\u043d\\u0430\\u0440\\u0443\\u0448\\u0435\\u043d\\u0438\\u0439 \\u043c\\u043e\\u0438\\u0445 \\u043f\\u0440\\u0430\\u0432 \\u0438 \\u0440\\u0435\\u0448\\u0435\\u043d\\u0438\\u044f \\u043e\\u0431\\u043e\\u0437\\u043d\\u0430\\u0447\\u0435\\u043d\\u043d\\u043e\\u0439 \\u043c\\u043d\\u043e\\u044e \\u043f\\u0440\\u043e\\u0431\\u043b\\u0435\\u043c\\u044b  \",\n          \"\\u042f \\u044f\\u0432\\u043b\\u044f\\u044e\\u0441\\u044c \\u0447\\u043b\\u0435\\u043d\\u043e\\u043c \\u0441\\u043e\\u0432\\u0435\\u0442\\u0430 \\u0434\\u043e\\u043c\\u0430 \\u0411\\u043e\\u043b\\u044c\\u0448\\u043e\\u0439 \\u043f\\u0440\\u043e\\u0441\\u043f\\u0435\\u043a\\u0442 \\u0434\\u043e\\u043c 70-72.\\u0412 \\u0441\\u0432\\u044f\\u0437\\u0438 \\u0441 \\u0442\\u0435\\u043c, \\u0447\\u0442\\u043e 24.10.2024 \\u0431\\u044b\\u0432\\u0448\\u0438\\u0439 \\u043f\\u0440\\u0435\\u0434\\u0441\\u0435\\u0434\\u0430\\u0442\\u0435\\u043b\\u044c\\u0422\\u0421\\u0416 \\\"\\u0411\\u043e\\u043b\\u044c\\u0448\\u043e\\u0439 \\u043f\\u0440\\u043e\\u0441\\u043f\\u0435\\u043a\\u0442 70-72\\\" \\u041a\\u0438\\u0440\\u0438\\u043b\\u043b\\u043e\\u0432 \\u0412.\\u041c. \\u043f\\u044b\\u0442\\u0430\\u043b\\u0441\\u044f \\u0434\\u0430\\u0442\\u044c \\u0432\\u0437\\u044f\\u0442\\u043a\\u0443 \\u0441\\u043e\\u0442\\u0440\\u0443\\u0434\\u043d\\u0438\\u043a\\u0443 \\u043d\\u0430\\u0448\\u0435\\u0439 \\u0443\\u043f\\u0440\\u0430\\u0432\\u043b\\u044f\\u044e\\u0449\\u0435\\u0439 \\u043a\\u043e\\u043c\\u043f\\u0430\\u043d\\u0438\\u0438 \\u0416\\u041a\\u0421 1\\u041f\\u0435\\u0442\\u0440\\u043e\\u0433\\u0440\\u0430\\u0434\\u0441\\u043a\\u043e\\u0433\\u043e \\u0440\\u0430\\u0439\\u043e\\u043d\\u0430 \\u041a\\u043e\\u0440\\u043e\\u043b\\u0435\\u0432\\u043e\\u0439 \\u042e\\u043b\\u0438\\u0438 \\u0437\\u0430 \\u0442\\u043e, \\u0447\\u0442\\u043e\\u0431\\u044b \\u043e\\u043d\\u0430 \\u043d\\u0435 \\u0441\\u043d\\u043e\\u0441\\u0438\\u043b\\u0430 \\u043d\\u0435\\u0437\\u0430\\u043a\\u043e\\u043d\\u043d\\u044b\\u0435 \\u043c\\u0430\\u043d\\u0441\\u0430\\u0440\\u0434\\u044b, \\u0432 \\u043d\\u0430\\u0441\\u0442\\u043e\\u044f\\u0449\\u0435\\u0435 \\u0432\\u0440\\u0435\\u043c\\u044f \\u0438\\u0434\\u0435\\u0442\\u0440\\u0430\\u0441\\u0441\\u043b\\u0435\\u0434\\u043e\\u0432\\u0430\\u043d\\u0438\\u0435 \\u043f\\u043e \\u0443\\u0433\\u043e\\u043b\\u043e\\u0432\\u043d\\u043e\\u043c\\u0443 \\u0434\\u0435\\u043b\\u0443 \\u043e \\u0434\\u0430\\u0447\\u0435 \\u0432\\u0437\\u044f\\u0442\\u043a\\u0438, \\u043f\\u0440\\u043e\\u0441\\u0438\\u043c \\u043d\\u0435 \\u0440\\u0435\\u0433\\u0438\\u0441\\u0442\\u0440\\u0438\\u0440\\u043e\\u0432\\u0430\\u0442\\u044c \\u043d\\u0438\\u043a\\u0430\\u043a\\u0438\\u0435 \\u0441\\u043e\\u0431\\u0440\\u0430\\u043d\\u0438\\u044f \\u043f\\u043e \\u0441\\u043c\\u0435\\u043d\\u0435\\u0443\\u043f\\u0440\\u0430\\u0432\\u043b\\u044f\\u044e\\u0449\\u0435\\u0439 \\u043a\\u043e\\u043c\\u043f\\u0430\\u043d\\u0438\\u0438 \\u0432 \\u043d\\u0430\\u0448\\u0435\\u043c \\u0434\\u043e\\u043c\\u0435 \\u0434\\u043e \\u0442\\u0435\\u0445 \\u043f\\u043e\\u0440, \\u043f\\u043e\\u043a\\u0430 \\u0441\\u0438\\u0442\\u0443\\u0430\\u0446\\u0438\\u044f \\u0441\\u043e \\u0432\\u0437\\u044f\\u0442\\u043a\\u043e\\u0439 \\u0438 \\u043d\\u0435\\u0437\\u0430\\u043a\\u043e\\u043d\\u043d\\u044b\\u043c\\u0438 \\u043c\\u0430\\u043d\\u0441\\u0430\\u0440\\u0434\\u0430\\u043c\\u0438 \\u043d\\u0435\\u0437\\u0430\\u043a\\u043e\\u043d\\u0447\\u0438\\u0442\\u0441\\u044f.\\u0422\\u0430\\u043a\\u0436\\u0435 \\u043e\\u0431\\u0440\\u0430\\u0449\\u0430\\u0435\\u043c\\u0441\\u044f \\u043a \\u0432\\u0430\\u043c \\u0441 \\u043f\\u0440\\u043e\\u0441\\u044c\\u0431\\u043e\\u0439 \\u0432 \\u0434\\u0430\\u043b\\u044c\\u043d\\u0435\\u0439\\u0448\\u0435\\u043c \\u0443\\u0447\\u0438\\u0442\\u044b\\u0432\\u0430\\u044f \\u0441\\u043b\\u043e\\u0436\\u043d\\u0443\\u044e \\u0441\\u0438\\u0442\\u0443\\u0430\\u0446\\u0438\\u044e \\u0432 \\u0434\\u043e\\u043c\\u0435 (\\u0436\\u0430\\u043b\\u043e\\u0431\\u044b \\u043d\\u0430 \\u0422\\u0421\\u0416\\u043d\\u0430 \\u0444\\u0430\\u043b\\u044c\\u0441\\u0438\\u0444\\u0438\\u043a\\u0430\\u0446\\u0438\\u044e \\u0431\\u044e\\u043b\\u043b\\u0435\\u0442\\u0435\\u043d\\u0435\\u0439 \\u0438 \\u043f\\u0440\\u043e\\u0447\\u0435\\u0435) \\u043e\\u0431\\u043e\\u0437\\u043d\\u0430\\u0447\\u0438\\u0442\\u044c \\u0443\\u0441\\u043b\\u043e\\u0432\\u0438\\u0435 \\u0434\\u043b\\u044f \\u043f\\u0440\\u043e\\u0432\\u0435\\u0434\\u0435\\u043d\\u0438\\u044f \\u043a\\u0430\\u043a\\u0438\\u0445-\\u043b\\u0438\\u0431\\u043e \\u0441\\u043e\\u0431\\u0440\\u0430\\u043d\\u0438\\u0439 - \\u0432\\u0441\\u0435 \\u0441\\u043e\\u0431\\u0440\\u0430\\u043d\\u0438\\u044f \\u0432\\u043d\\u0430\\u0448\\u0435\\u043c \\u0434\\u043e\\u043c\\u0435 \\u043f\\u0440\\u043e\\u0432\\u043e\\u0434\\u0438\\u0442\\u044c \\u0442\\u043e\\u043b\\u044c\\u043a\\u043e \\u0441 \\u043f\\u043e\\u043c\\u043e\\u0449\\u044c\\u044e \\u044d\\u043b\\u0435\\u043a\\u0442\\u0440\\u043e\\u043d\\u043d\\u044b\\u0445 \\u0441\\u0440\\u0435\\u0434\\u0441\\u0442\\u0432 (\\u0447\\u0435\\u0440\\u0435\\u0437 \\u0413\\u043e\\u0441\\u0443\\u0441\\u043b\\u0443\\u0433\\u0438). \\u042d\\u0442\\u043e \\u043f\\u043e\\u0437\\u0432\\u043e\\u043b\\u0438\\u0442 \\u043e\\u0433\\u0440\\u0430\\u0434\\u0438\\u0442\\u044c \\u0436\\u0438\\u0442\\u0435\\u043b\\u0435\\u0439\\u0434\\u043e\\u043c\\u0430 \\u043e\\u0442 \\u0444\\u0430\\u043b\\u044c\\u0441\\u0438\\u0444\\u0438\\u043a\\u0430\\u0446\\u0438\\u0438 \\u0438 \\u0437\\u0430\\u0445\\u0432\\u0430\\u0442\\u0430 \\u043d\\u0430\\u0448\\u0435\\u0433\\u043e \\u0434\\u043e\\u043c\\u0430 \\u0431\\u044b\\u0432\\u0448\\u0438\\u043c \\u043f\\u0440\\u0430\\u0432\\u043b\\u0435\\u043d\\u0438\\u0435\\u043c \\u0422\\u0421\\u0416.\"\n        ],\n        \"semantic_type\": \"\",\n        \"description\": \"\"\n      }\n    },\n    {\n      \"column\": \"label\",\n      \"properties\": {\n        \"dtype\": \"number\",\n        \"std\": 7,\n        \"min\": 0,\n        \"max\": 35,\n        \"num_unique_values\": 36,\n        \"samples\": [\n          35,\n          20,\n          24\n        ],\n        \"semantic_type\": \"\",\n        \"description\": \"\"\n      }\n    }\n  ]\n}"
            }
          },
          "metadata": {},
          "execution_count": 30
        }
      ]
    },
    {
      "cell_type": "markdown",
      "metadata": {
        "id": "B6XlfsIO1zQF"
      },
      "source": [
        "# FastText"
      ]
    },
    {
      "cell_type": "code",
      "source": [
        "! pip install fasttext"
      ],
      "metadata": {
        "colab": {
          "base_uri": "https://localhost:8080/"
        },
        "id": "IEuAiV6pVqrs",
        "outputId": "dfa1e317-a214-4a4f-b68a-829834e45c23"
      },
      "execution_count": 4,
      "outputs": [
        {
          "output_type": "stream",
          "name": "stdout",
          "text": [
            "Requirement already satisfied: fasttext in /usr/local/lib/python3.11/dist-packages (0.9.3)\n",
            "Requirement already satisfied: pybind11>=2.2 in /usr/local/lib/python3.11/dist-packages (from fasttext) (2.13.6)\n",
            "Requirement already satisfied: setuptools>=0.7.0 in /usr/local/lib/python3.11/dist-packages (from fasttext) (75.2.0)\n",
            "Requirement already satisfied: numpy in /usr/local/lib/python3.11/dist-packages (from fasttext) (1.26.4)\n"
          ]
        }
      ]
    },
    {
      "cell_type": "markdown",
      "source": [
        "## Prepare Data"
      ],
      "metadata": {
        "id": "jumB828IXdmK"
      }
    },
    {
      "cell_type": "code",
      "execution_count": 5,
      "metadata": {
        "id": "v70DuTd-BlIY"
      },
      "outputs": [],
      "source": [
        "from sklearn.model_selection import train_test_split\n",
        "\n",
        "\n",
        "# topic_id -> sequential label index\n",
        "data[\"fasttext_label\"] = \"__label__\" + data[\"label\"].astype(str) + \" \" + data[\"appeal\"]\n",
        "\n",
        "train_texts_fasttext, val_texts_fasttext = train_test_split(data[\"fasttext_label\"], test_size=0.2, random_state=42)\n",
        "\n",
        "# Save to .txt files (FastText needs these)\n",
        "train_texts_fasttext.to_csv(\"temp/train_fasttext.txt\", index=False, header=False)\n",
        "val_texts_fasttext.to_csv(\"temp/valid_fasttext.txt\", index=False, header=False)"
      ]
    },
    {
      "cell_type": "markdown",
      "source": [
        "## Run Training"
      ],
      "metadata": {
        "id": "adlc5YgzXhQ7"
      }
    },
    {
      "cell_type": "code",
      "source": [
        "import fasttext\n",
        "\n",
        "# Train FastText model\n",
        "model = fasttext.train_supervised(input=\"temp/train_fasttext.txt\", epoch=100, lr=0.5, wordNgrams=2, verbose=2)\n",
        "\n",
        "# Save model\n",
        "model.save_model(\"Assets/models/fasttext_model.bin\")"
      ],
      "metadata": {
        "id": "uePLUY8eXlcS"
      },
      "execution_count": 6,
      "outputs": []
    },
    {
      "cell_type": "markdown",
      "source": [
        "## Load and Evaluate"
      ],
      "metadata": {
        "id": "_wxt9645X86L"
      }
    },
    {
      "cell_type": "code",
      "source": [
        "loaded_model = fasttext.load_model(\"Assets/models/fasttext_model.bin\")\n",
        "val_texts_fasttext.head()"
      ],
      "metadata": {
        "colab": {
          "base_uri": "https://localhost:8080/",
          "height": 241
        },
        "id": "SccJOEG3X2yb",
        "outputId": "8352ca08-4b0e-4214-83b9-7b3dfc7fa64f"
      },
      "execution_count": 7,
      "outputs": [
        {
          "output_type": "execute_result",
          "data": {
            "text/plain": [
              "794     __label__0  25.09.2024 в 07:24 я направил в уп...\n",
              "199     __label__2  Здравствуйте, прошу Вас провести п...\n",
              "1849    __label__20 По адресу ул. Орбели д. 17 лит. А....\n",
              "33      __label__6  Прошу принять меры в отношении орг...\n",
              "179     __label__6  Я проживаю и являюсь собственником...\n",
              "Name: fasttext_label, dtype: object"
            ],
            "text/html": [
              "<div>\n",
              "<style scoped>\n",
              "    .dataframe tbody tr th:only-of-type {\n",
              "        vertical-align: middle;\n",
              "    }\n",
              "\n",
              "    .dataframe tbody tr th {\n",
              "        vertical-align: top;\n",
              "    }\n",
              "\n",
              "    .dataframe thead th {\n",
              "        text-align: right;\n",
              "    }\n",
              "</style>\n",
              "<table border=\"1\" class=\"dataframe\">\n",
              "  <thead>\n",
              "    <tr style=\"text-align: right;\">\n",
              "      <th></th>\n",
              "      <th>fasttext_label</th>\n",
              "    </tr>\n",
              "  </thead>\n",
              "  <tbody>\n",
              "    <tr>\n",
              "      <th>794</th>\n",
              "      <td>__label__0  25.09.2024 в 07:24 я направил в уп...</td>\n",
              "    </tr>\n",
              "    <tr>\n",
              "      <th>199</th>\n",
              "      <td>__label__2  Здравствуйте, прошу Вас провести п...</td>\n",
              "    </tr>\n",
              "    <tr>\n",
              "      <th>1849</th>\n",
              "      <td>__label__20 По адресу ул. Орбели д. 17 лит. А....</td>\n",
              "    </tr>\n",
              "    <tr>\n",
              "      <th>33</th>\n",
              "      <td>__label__6  Прошу принять меры в отношении орг...</td>\n",
              "    </tr>\n",
              "    <tr>\n",
              "      <th>179</th>\n",
              "      <td>__label__6  Я проживаю и являюсь собственником...</td>\n",
              "    </tr>\n",
              "  </tbody>\n",
              "</table>\n",
              "</div><br><label><b>dtype:</b> object</label>"
            ]
          },
          "metadata": {},
          "execution_count": 7
        }
      ]
    },
    {
      "cell_type": "code",
      "source": [
        "def predict_topic_fasttext(appeal_text):\n",
        "    label, confidence = model.predict(appeal_text)  # Predict topic label\n",
        "\n",
        "    topic_label = id2label.get(int(label[0].replace(\"__label__\", \"\")), \"Неизвестная тема\")  # Remove \"__label__\" prefix\n",
        "    return topic_label, confidence[0]  # Return topic_id, label and confidence score"
      ],
      "metadata": {
        "id": "qK-EYCfcYe_L"
      },
      "execution_count": 8,
      "outputs": []
    },
    {
      "cell_type": "code",
      "source": [
        "def get_fasttext_predictions(model, test_data, num_classes):\n",
        "    \"\"\"\n",
        "    Get full probability distributions for all classes from FastText model.\n",
        "\n",
        "    Parameters:\n",
        "    - model: Trained FastText model\n",
        "    - test_data: List of (text, true_label) tuples\n",
        "    - num_classes: Total number of classes\n",
        "\n",
        "    Returns:\n",
        "    - predictions: List of tuples [(full_probs), true_label]\n",
        "    \"\"\"\n",
        "    predictions = []\n",
        "\n",
        "    for text, true_label in test_data:\n",
        "        # Get top-k predictions (FastText does not return full distribution)\n",
        "        predicted_labels, probs = model.predict(text, k=num_classes)\n",
        "\n",
        "        # Initialize full probability vector with zeros\n",
        "        full_probs = np.zeros(num_classes)\n",
        "\n",
        "        # Fill in the probabilities for predicted classes\n",
        "        for lbl, prob in zip(predicted_labels, probs):\n",
        "            class_idx = int(lbl.replace(\"__label__\", \"\"))  # Extract class index\n",
        "            full_probs[class_idx] = prob  # Assign probability to correct index\n",
        "\n",
        "        predictions.append((full_probs, int(true_label)))  # Store full vector + true label\n",
        "\n",
        "    return predictions\n",
        "\n",
        "def parse_fasttext_output(predictions):\n",
        "    \"\"\"\n",
        "    Convert FastText probability output into log probabilities & labels.\n",
        "\n",
        "    Parameters:\n",
        "    - predictions: List of tuples [(full_probs), true_label] from FastText\n",
        "\n",
        "    Returns:\n",
        "    - logits: Numpy array of shape (N, num_classes) with log-probabilities\n",
        "    - labels: Numpy array of shape (N,) with true class indices\n",
        "    \"\"\"\n",
        "    labels = []\n",
        "    logits = []\n",
        "\n",
        "    for full_probs, true_label in predictions:\n",
        "        labels.append(true_label)\n",
        "\n",
        "        # Convert probabilities to logits (avoid log(0) using a small value)\n",
        "        log_probs = np.log(np.clip(full_probs, 1e-10, 1.0))\n",
        "        logits.append(log_probs)\n",
        "\n",
        "    return np.array(logits), np.array(labels)\n",
        "\n",
        "def compute_metrics_top_k_fasttext(predictions, num_classes, k=3):\n",
        "    \"\"\"\n",
        "    Compute accuracy, top-K accuracy, and ROC AUC for FastText model output.\n",
        "\n",
        "    Parameters:\n",
        "    - predictions: List of tuples [(full_probs, true_label)] from FastText\n",
        "    - num_classes: Total number of classes\n",
        "    - k: Number of top predictions to consider for accuracy\n",
        "\n",
        "    Returns:\n",
        "    - Dictionary with accuracy, top-K accuracy, and ROC AUC\n",
        "    \"\"\"\n",
        "    logits, labels = parse_fasttext_output(predictions)\n",
        "\n",
        "    # Convert logits back to probabilities\n",
        "    probabilities = np.exp(logits) / np.exp(logits).sum(axis=-1, keepdims=True)\n",
        "\n",
        "    # Standard Accuracy\n",
        "    predictions = np.argmax(logits, axis=-1)\n",
        "    acc = accuracy_score(labels, predictions)\n",
        "\n",
        "    # Top-K Accuracy\n",
        "    top_k_predictions = np.argsort(-probabilities, axis=-1)[:, :k]\n",
        "    top_k_correct = np.any(top_k_predictions == labels[:, None], axis=-1)\n",
        "    top_k_acc = np.mean(top_k_correct)\n",
        "\n",
        "    # Top-5 Accuracy\n",
        "    top_5_predictions = np.argsort(-probabilities, axis=-1)[:, :5]\n",
        "    top_5_correct = np.any(top_5_predictions == labels[:, None], axis=-1)\n",
        "    top_5_acc = np.mean(top_5_correct)\n",
        "\n",
        "    # ROC AUC\n",
        "    auc = roc_auc_multiclass(labels, probabilities)\n",
        "\n",
        "    f1 = f1_score(labels, predictions, average=\"weighted\")  # Standard F1-score\n",
        "\n",
        "    return {\"eval_accuracy\": acc, f\"eval_top_{k}_accuracy\": top_k_acc, f\"eval_top_5_accuracy\": top_5_acc, \"eval_f1\": f1, \"eval_roc_auc\": auc}"
      ],
      "metadata": {
        "id": "b0dmbYzMZDCc"
      },
      "execution_count": 9,
      "outputs": []
    },
    {
      "cell_type": "code",
      "source": [
        "test_data = val_texts_fasttext.tolist()\n",
        "for i in range(len(test_data)):\n",
        "    text = test_data[i]\n",
        "    label = int(text.split()[0][9:])\n",
        "    appeal = \" \".join(text.split()[1:])\n",
        "    test_data[i] = (appeal, label)\n",
        "\n",
        "num_classes = num_labels\n",
        "\n",
        "predictions = get_fasttext_predictions(loaded_model, test_data, num_classes=num_classes)\n",
        "\n",
        "# Compute metrics\n",
        "metrics = compute_metrics_top_k_fasttext(predictions, num_labels, k=3)\n",
        "fasttext_stat = pd.DataFrame.from_dict(metrics, orient='index')\n",
        "fasttext_stat"
      ],
      "metadata": {
        "colab": {
          "base_uri": "https://localhost:8080/",
          "height": 206
        },
        "id": "588RHPYKZJqD",
        "outputId": "3db64369-f00f-4387-a10c-f8f50b517958"
      },
      "execution_count": 10,
      "outputs": [
        {
          "output_type": "execute_result",
          "data": {
            "text/plain": [
              "                            0\n",
              "eval_accuracy        0.149738\n",
              "eval_top_3_accuracy  0.261780\n",
              "eval_top_5_accuracy  0.343455\n",
              "eval_f1              0.102984\n",
              "eval_roc_auc         0.626788"
            ],
            "text/html": [
              "\n",
              "  <div id=\"df-9ec42b47-d702-4dbc-9d66-ce33fb3c0869\" class=\"colab-df-container\">\n",
              "    <div>\n",
              "<style scoped>\n",
              "    .dataframe tbody tr th:only-of-type {\n",
              "        vertical-align: middle;\n",
              "    }\n",
              "\n",
              "    .dataframe tbody tr th {\n",
              "        vertical-align: top;\n",
              "    }\n",
              "\n",
              "    .dataframe thead th {\n",
              "        text-align: right;\n",
              "    }\n",
              "</style>\n",
              "<table border=\"1\" class=\"dataframe\">\n",
              "  <thead>\n",
              "    <tr style=\"text-align: right;\">\n",
              "      <th></th>\n",
              "      <th>0</th>\n",
              "    </tr>\n",
              "  </thead>\n",
              "  <tbody>\n",
              "    <tr>\n",
              "      <th>eval_accuracy</th>\n",
              "      <td>0.149738</td>\n",
              "    </tr>\n",
              "    <tr>\n",
              "      <th>eval_top_3_accuracy</th>\n",
              "      <td>0.261780</td>\n",
              "    </tr>\n",
              "    <tr>\n",
              "      <th>eval_top_5_accuracy</th>\n",
              "      <td>0.343455</td>\n",
              "    </tr>\n",
              "    <tr>\n",
              "      <th>eval_f1</th>\n",
              "      <td>0.102984</td>\n",
              "    </tr>\n",
              "    <tr>\n",
              "      <th>eval_roc_auc</th>\n",
              "      <td>0.626788</td>\n",
              "    </tr>\n",
              "  </tbody>\n",
              "</table>\n",
              "</div>\n",
              "    <div class=\"colab-df-buttons\">\n",
              "\n",
              "  <div class=\"colab-df-container\">\n",
              "    <button class=\"colab-df-convert\" onclick=\"convertToInteractive('df-9ec42b47-d702-4dbc-9d66-ce33fb3c0869')\"\n",
              "            title=\"Convert this dataframe to an interactive table.\"\n",
              "            style=\"display:none;\">\n",
              "\n",
              "  <svg xmlns=\"http://www.w3.org/2000/svg\" height=\"24px\" viewBox=\"0 -960 960 960\">\n",
              "    <path d=\"M120-120v-720h720v720H120Zm60-500h600v-160H180v160Zm220 220h160v-160H400v160Zm0 220h160v-160H400v160ZM180-400h160v-160H180v160Zm440 0h160v-160H620v160ZM180-180h160v-160H180v160Zm440 0h160v-160H620v160Z\"/>\n",
              "  </svg>\n",
              "    </button>\n",
              "\n",
              "  <style>\n",
              "    .colab-df-container {\n",
              "      display:flex;\n",
              "      gap: 12px;\n",
              "    }\n",
              "\n",
              "    .colab-df-convert {\n",
              "      background-color: #E8F0FE;\n",
              "      border: none;\n",
              "      border-radius: 50%;\n",
              "      cursor: pointer;\n",
              "      display: none;\n",
              "      fill: #1967D2;\n",
              "      height: 32px;\n",
              "      padding: 0 0 0 0;\n",
              "      width: 32px;\n",
              "    }\n",
              "\n",
              "    .colab-df-convert:hover {\n",
              "      background-color: #E2EBFA;\n",
              "      box-shadow: 0px 1px 2px rgba(60, 64, 67, 0.3), 0px 1px 3px 1px rgba(60, 64, 67, 0.15);\n",
              "      fill: #174EA6;\n",
              "    }\n",
              "\n",
              "    .colab-df-buttons div {\n",
              "      margin-bottom: 4px;\n",
              "    }\n",
              "\n",
              "    [theme=dark] .colab-df-convert {\n",
              "      background-color: #3B4455;\n",
              "      fill: #D2E3FC;\n",
              "    }\n",
              "\n",
              "    [theme=dark] .colab-df-convert:hover {\n",
              "      background-color: #434B5C;\n",
              "      box-shadow: 0px 1px 3px 1px rgba(0, 0, 0, 0.15);\n",
              "      filter: drop-shadow(0px 1px 2px rgba(0, 0, 0, 0.3));\n",
              "      fill: #FFFFFF;\n",
              "    }\n",
              "  </style>\n",
              "\n",
              "    <script>\n",
              "      const buttonEl =\n",
              "        document.querySelector('#df-9ec42b47-d702-4dbc-9d66-ce33fb3c0869 button.colab-df-convert');\n",
              "      buttonEl.style.display =\n",
              "        google.colab.kernel.accessAllowed ? 'block' : 'none';\n",
              "\n",
              "      async function convertToInteractive(key) {\n",
              "        const element = document.querySelector('#df-9ec42b47-d702-4dbc-9d66-ce33fb3c0869');\n",
              "        const dataTable =\n",
              "          await google.colab.kernel.invokeFunction('convertToInteractive',\n",
              "                                                    [key], {});\n",
              "        if (!dataTable) return;\n",
              "\n",
              "        const docLinkHtml = 'Like what you see? Visit the ' +\n",
              "          '<a target=\"_blank\" href=https://colab.research.google.com/notebooks/data_table.ipynb>data table notebook</a>'\n",
              "          + ' to learn more about interactive tables.';\n",
              "        element.innerHTML = '';\n",
              "        dataTable['output_type'] = 'display_data';\n",
              "        await google.colab.output.renderOutput(dataTable, element);\n",
              "        const docLink = document.createElement('div');\n",
              "        docLink.innerHTML = docLinkHtml;\n",
              "        element.appendChild(docLink);\n",
              "      }\n",
              "    </script>\n",
              "  </div>\n",
              "\n",
              "\n",
              "    <div id=\"df-6f58b96a-2c96-4281-acb5-b85abf426cca\">\n",
              "      <button class=\"colab-df-quickchart\" onclick=\"quickchart('df-6f58b96a-2c96-4281-acb5-b85abf426cca')\"\n",
              "                title=\"Suggest charts\"\n",
              "                style=\"display:none;\">\n",
              "\n",
              "<svg xmlns=\"http://www.w3.org/2000/svg\" height=\"24px\"viewBox=\"0 0 24 24\"\n",
              "     width=\"24px\">\n",
              "    <g>\n",
              "        <path d=\"M19 3H5c-1.1 0-2 .9-2 2v14c0 1.1.9 2 2 2h14c1.1 0 2-.9 2-2V5c0-1.1-.9-2-2-2zM9 17H7v-7h2v7zm4 0h-2V7h2v10zm4 0h-2v-4h2v4z\"/>\n",
              "    </g>\n",
              "</svg>\n",
              "      </button>\n",
              "\n",
              "<style>\n",
              "  .colab-df-quickchart {\n",
              "      --bg-color: #E8F0FE;\n",
              "      --fill-color: #1967D2;\n",
              "      --hover-bg-color: #E2EBFA;\n",
              "      --hover-fill-color: #174EA6;\n",
              "      --disabled-fill-color: #AAA;\n",
              "      --disabled-bg-color: #DDD;\n",
              "  }\n",
              "\n",
              "  [theme=dark] .colab-df-quickchart {\n",
              "      --bg-color: #3B4455;\n",
              "      --fill-color: #D2E3FC;\n",
              "      --hover-bg-color: #434B5C;\n",
              "      --hover-fill-color: #FFFFFF;\n",
              "      --disabled-bg-color: #3B4455;\n",
              "      --disabled-fill-color: #666;\n",
              "  }\n",
              "\n",
              "  .colab-df-quickchart {\n",
              "    background-color: var(--bg-color);\n",
              "    border: none;\n",
              "    border-radius: 50%;\n",
              "    cursor: pointer;\n",
              "    display: none;\n",
              "    fill: var(--fill-color);\n",
              "    height: 32px;\n",
              "    padding: 0;\n",
              "    width: 32px;\n",
              "  }\n",
              "\n",
              "  .colab-df-quickchart:hover {\n",
              "    background-color: var(--hover-bg-color);\n",
              "    box-shadow: 0 1px 2px rgba(60, 64, 67, 0.3), 0 1px 3px 1px rgba(60, 64, 67, 0.15);\n",
              "    fill: var(--button-hover-fill-color);\n",
              "  }\n",
              "\n",
              "  .colab-df-quickchart-complete:disabled,\n",
              "  .colab-df-quickchart-complete:disabled:hover {\n",
              "    background-color: var(--disabled-bg-color);\n",
              "    fill: var(--disabled-fill-color);\n",
              "    box-shadow: none;\n",
              "  }\n",
              "\n",
              "  .colab-df-spinner {\n",
              "    border: 2px solid var(--fill-color);\n",
              "    border-color: transparent;\n",
              "    border-bottom-color: var(--fill-color);\n",
              "    animation:\n",
              "      spin 1s steps(1) infinite;\n",
              "  }\n",
              "\n",
              "  @keyframes spin {\n",
              "    0% {\n",
              "      border-color: transparent;\n",
              "      border-bottom-color: var(--fill-color);\n",
              "      border-left-color: var(--fill-color);\n",
              "    }\n",
              "    20% {\n",
              "      border-color: transparent;\n",
              "      border-left-color: var(--fill-color);\n",
              "      border-top-color: var(--fill-color);\n",
              "    }\n",
              "    30% {\n",
              "      border-color: transparent;\n",
              "      border-left-color: var(--fill-color);\n",
              "      border-top-color: var(--fill-color);\n",
              "      border-right-color: var(--fill-color);\n",
              "    }\n",
              "    40% {\n",
              "      border-color: transparent;\n",
              "      border-right-color: var(--fill-color);\n",
              "      border-top-color: var(--fill-color);\n",
              "    }\n",
              "    60% {\n",
              "      border-color: transparent;\n",
              "      border-right-color: var(--fill-color);\n",
              "    }\n",
              "    80% {\n",
              "      border-color: transparent;\n",
              "      border-right-color: var(--fill-color);\n",
              "      border-bottom-color: var(--fill-color);\n",
              "    }\n",
              "    90% {\n",
              "      border-color: transparent;\n",
              "      border-bottom-color: var(--fill-color);\n",
              "    }\n",
              "  }\n",
              "</style>\n",
              "\n",
              "      <script>\n",
              "        async function quickchart(key) {\n",
              "          const quickchartButtonEl =\n",
              "            document.querySelector('#' + key + ' button');\n",
              "          quickchartButtonEl.disabled = true;  // To prevent multiple clicks.\n",
              "          quickchartButtonEl.classList.add('colab-df-spinner');\n",
              "          try {\n",
              "            const charts = await google.colab.kernel.invokeFunction(\n",
              "                'suggestCharts', [key], {});\n",
              "          } catch (error) {\n",
              "            console.error('Error during call to suggestCharts:', error);\n",
              "          }\n",
              "          quickchartButtonEl.classList.remove('colab-df-spinner');\n",
              "          quickchartButtonEl.classList.add('colab-df-quickchart-complete');\n",
              "        }\n",
              "        (() => {\n",
              "          let quickchartButtonEl =\n",
              "            document.querySelector('#df-6f58b96a-2c96-4281-acb5-b85abf426cca button');\n",
              "          quickchartButtonEl.style.display =\n",
              "            google.colab.kernel.accessAllowed ? 'block' : 'none';\n",
              "        })();\n",
              "      </script>\n",
              "    </div>\n",
              "\n",
              "  <div id=\"id_92619ab9-bcef-4681-b393-73e4f60fbb35\">\n",
              "    <style>\n",
              "      .colab-df-generate {\n",
              "        background-color: #E8F0FE;\n",
              "        border: none;\n",
              "        border-radius: 50%;\n",
              "        cursor: pointer;\n",
              "        display: none;\n",
              "        fill: #1967D2;\n",
              "        height: 32px;\n",
              "        padding: 0 0 0 0;\n",
              "        width: 32px;\n",
              "      }\n",
              "\n",
              "      .colab-df-generate:hover {\n",
              "        background-color: #E2EBFA;\n",
              "        box-shadow: 0px 1px 2px rgba(60, 64, 67, 0.3), 0px 1px 3px 1px rgba(60, 64, 67, 0.15);\n",
              "        fill: #174EA6;\n",
              "      }\n",
              "\n",
              "      [theme=dark] .colab-df-generate {\n",
              "        background-color: #3B4455;\n",
              "        fill: #D2E3FC;\n",
              "      }\n",
              "\n",
              "      [theme=dark] .colab-df-generate:hover {\n",
              "        background-color: #434B5C;\n",
              "        box-shadow: 0px 1px 3px 1px rgba(0, 0, 0, 0.15);\n",
              "        filter: drop-shadow(0px 1px 2px rgba(0, 0, 0, 0.3));\n",
              "        fill: #FFFFFF;\n",
              "      }\n",
              "    </style>\n",
              "    <button class=\"colab-df-generate\" onclick=\"generateWithVariable('fasttext_stat')\"\n",
              "            title=\"Generate code using this dataframe.\"\n",
              "            style=\"display:none;\">\n",
              "\n",
              "  <svg xmlns=\"http://www.w3.org/2000/svg\" height=\"24px\"viewBox=\"0 0 24 24\"\n",
              "       width=\"24px\">\n",
              "    <path d=\"M7,19H8.4L18.45,9,17,7.55,7,17.6ZM5,21V16.75L18.45,3.32a2,2,0,0,1,2.83,0l1.4,1.43a1.91,1.91,0,0,1,.58,1.4,1.91,1.91,0,0,1-.58,1.4L9.25,21ZM18.45,9,17,7.55Zm-12,3A5.31,5.31,0,0,0,4.9,8.1,5.31,5.31,0,0,0,1,6.5,5.31,5.31,0,0,0,4.9,4.9,5.31,5.31,0,0,0,6.5,1,5.31,5.31,0,0,0,8.1,4.9,5.31,5.31,0,0,0,12,6.5,5.46,5.46,0,0,0,6.5,12Z\"/>\n",
              "  </svg>\n",
              "    </button>\n",
              "    <script>\n",
              "      (() => {\n",
              "      const buttonEl =\n",
              "        document.querySelector('#id_92619ab9-bcef-4681-b393-73e4f60fbb35 button.colab-df-generate');\n",
              "      buttonEl.style.display =\n",
              "        google.colab.kernel.accessAllowed ? 'block' : 'none';\n",
              "\n",
              "      buttonEl.onclick = () => {\n",
              "        google.colab.notebook.generateWithVariable('fasttext_stat');\n",
              "      }\n",
              "      })();\n",
              "    </script>\n",
              "  </div>\n",
              "\n",
              "    </div>\n",
              "  </div>\n"
            ],
            "application/vnd.google.colaboratory.intrinsic+json": {
              "type": "dataframe",
              "variable_name": "fasttext_stat",
              "summary": "{\n  \"name\": \"fasttext_stat\",\n  \"rows\": 5,\n  \"fields\": [\n    {\n      \"column\": 0,\n      \"properties\": {\n        \"dtype\": \"number\",\n        \"std\": 0.207054777918379,\n        \"min\": 0.10298423933533439,\n        \"max\": 0.6267878645721024,\n        \"num_unique_values\": 5,\n        \"samples\": [\n          0.2617801047120419,\n          0.6267878645721024,\n          0.34345549738219894\n        ],\n        \"semantic_type\": \"\",\n        \"description\": \"\"\n      }\n    }\n  ]\n}"
            }
          },
          "metadata": {},
          "execution_count": 10
        }
      ]
    },
    {
      "cell_type": "code",
      "source": [
        "ALL_DATA[\"FastText\"][\"basic_stats\"] = metrics\n",
        "ALL_DATA"
      ],
      "metadata": {
        "colab": {
          "base_uri": "https://localhost:8080/"
        },
        "id": "sHjMKugBbDGD",
        "outputId": "a188788c-9f1d-4acd-c950-963d14818e65"
      },
      "execution_count": 31,
      "outputs": [
        {
          "output_type": "execute_result",
          "data": {
            "text/plain": [
              "{'FastText': {'basic_stats': {'eval_accuracy': 0.14973821989528796,\n",
              "   'eval_top_3_accuracy': 0.2617801047120419,\n",
              "   'eval_top_5_accuracy': 0.34345549738219894,\n",
              "   'eval_f1': 0.10298423933533439,\n",
              "   'eval_roc_auc': 0.6267878645721024}},\n",
              " 'Naive Bayes': {},\n",
              " 'Decision Tree': {},\n",
              " 'Support Vector': {}}"
            ]
          },
          "metadata": {},
          "execution_count": 31
        }
      ]
    },
    {
      "cell_type": "markdown",
      "source": [
        "# Basic ML Models"
      ],
      "metadata": {
        "id": "BKHbrG1jnqS_"
      }
    },
    {
      "cell_type": "markdown",
      "source": [
        "## Prepare Data"
      ],
      "metadata": {
        "id": "hQVRsHwxn4sx"
      }
    },
    {
      "cell_type": "code",
      "source": [
        "! pip install scikit-multilearn"
      ],
      "metadata": {
        "colab": {
          "base_uri": "https://localhost:8080/"
        },
        "id": "VMZL0SwcvE7F",
        "outputId": "74701539-e8e1-487c-dee3-8d773df16df4"
      },
      "execution_count": 14,
      "outputs": [
        {
          "output_type": "stream",
          "name": "stdout",
          "text": [
            "Collecting scikit-multilearn\n",
            "  Downloading scikit_multilearn-0.2.0-py3-none-any.whl.metadata (6.0 kB)\n",
            "Downloading scikit_multilearn-0.2.0-py3-none-any.whl (89 kB)\n",
            "\u001b[?25l   \u001b[90m━━━━━━━━━━━━━━━━━━━━━━━━━━━━━━━━━━━━━━━━\u001b[0m \u001b[32m0.0/89.4 kB\u001b[0m \u001b[31m?\u001b[0m eta \u001b[36m-:--:--\u001b[0m\r\u001b[2K   \u001b[91m━━━━━━━━━━━━━━━━━━━━━━━━━━━━━━━━━━━━\u001b[0m\u001b[91m╸\u001b[0m\u001b[90m━━━\u001b[0m \u001b[32m81.9/89.4 kB\u001b[0m \u001b[31m3.1 MB/s\u001b[0m eta \u001b[36m0:00:01\u001b[0m\r\u001b[2K   \u001b[90m━━━━━━━━━━━━━━━━━━━━━━━━━━━━━━━━━━━━━━━━\u001b[0m \u001b[32m89.4/89.4 kB\u001b[0m \u001b[31m2.2 MB/s\u001b[0m eta \u001b[36m0:00:00\u001b[0m\n",
            "\u001b[?25hInstalling collected packages: scikit-multilearn\n",
            "Successfully installed scikit-multilearn-0.2.0\n"
          ]
        }
      ]
    },
    {
      "cell_type": "code",
      "source": [
        "from sklearn.feature_extraction.text import TfidfVectorizer\n",
        "from sklearn.decomposition import TruncatedSVD\n",
        "\n",
        "\n",
        "train_texts, val_texts, train_labels, val_labels = train_test_split(\n",
        "    data[\"appeal\"].tolist(), data[\"label\"].tolist(), test_size=0.2, random_state=42\n",
        ")\n",
        "\n",
        "vectorizer = TfidfVectorizer(max_features=5000)\n",
        "X_train = vectorizer.fit_transform(train_texts)\n",
        "X_test = vectorizer.transform(val_texts)\n",
        "\n",
        "svd = TruncatedSVD(n_components=1000)  # Reduce to less-dimensional space\n",
        "X_train_reduced = svd.fit_transform(X_train)\n",
        "X_test_reduced = svd.transform(X_test)\n",
        "\n",
        "X_train.shape, X_test.shape, X_train_reduced.shape, X_test_reduced.shape"
      ],
      "metadata": {
        "id": "lTOF5mYOn9M2",
        "colab": {
          "base_uri": "https://localhost:8080/"
        },
        "outputId": "10f48479-b58c-4da3-d875-2d0306a327c7"
      },
      "execution_count": 15,
      "outputs": [
        {
          "output_type": "execute_result",
          "data": {
            "text/plain": [
              "((3817, 5000), (955, 5000), (3817, 1000), (955, 1000))"
            ]
          },
          "metadata": {},
          "execution_count": 15
        }
      ]
    },
    {
      "cell_type": "code",
      "source": [
        "from sklearn.preprocessing import MultiLabelBinarizer\n",
        "\n",
        "train_labels_mlb = [[i] for i in train_labels]\n",
        "\n",
        "mlb = MultiLabelBinarizer()\n",
        "y_train = mlb.fit_transform(train_labels_mlb)\n",
        "#y_test = mlb.transform(val_labels)\n",
        "y_test = np.array(val_labels)"
      ],
      "metadata": {
        "id": "3VhX9nFNo6_s"
      },
      "execution_count": 16,
      "outputs": []
    },
    {
      "cell_type": "markdown",
      "source": [
        "## Import Models"
      ],
      "metadata": {
        "id": "PItqoVMVoY1r"
      }
    },
    {
      "cell_type": "code",
      "source": [
        "import joblib\n",
        "import os\n",
        "\n",
        "from skmultilearn.problem_transform import BinaryRelevance\n",
        "from sklearn.naive_bayes import MultinomialNB\n",
        "from sklearn.svm import SVC\n",
        "from sklearn.tree import DecisionTreeClassifier\n",
        "\n",
        "predictions = {}"
      ],
      "metadata": {
        "id": "2B_kb-reoa67"
      },
      "execution_count": 18,
      "outputs": []
    },
    {
      "cell_type": "markdown",
      "source": [
        "## Train and Save Models\n",
        "\n",
        "*Using Binary Relevance with Naïve Bayes, Decision Tree and Support Vector Machine*"
      ],
      "metadata": {
        "id": "6e2qRz8oogbM"
      }
    },
    {
      "cell_type": "code",
      "source": [
        "import joblib\n",
        "import os\n",
        "\n",
        "os.makedirs(\"Assets/models\", exist_ok=True)\n",
        "\n",
        "from skmultilearn.problem_transform import BinaryRelevance\n",
        "from sklearn.naive_bayes import MultinomialNB\n",
        "from sklearn.svm import SVC\n",
        "from sklearn.tree import DecisionTreeClassifier\n",
        "\n",
        "# Store model configs\n",
        "model_configs = {\n",
        "    \"Naive Bayes\": BinaryRelevance(MultinomialNB()),\n",
        "    \"Decision Tree\": BinaryRelevance(DecisionTreeClassifier()),\n",
        "    \"Support Vector\": BinaryRelevance(SVC(probability=True))\n",
        "}\n",
        "\n",
        "# Fit and save models\n",
        "for name, clf in model_configs.items():\n",
        "    if name == \"Support Vector\":\n",
        "        clf.fit(X_train_reduced, y_train)\n",
        "        joblib.dump(clf, f\"Assets/models/{name.replace(' ', '_')}.joblib\")\n",
        "        predictions[name] = clf.predict_proba(X_test_reduced).toarray()\n",
        "    else:\n",
        "        clf.fit(X_train, y_train)\n",
        "        joblib.dump(clf, f\"Assets/models/{name.replace(' ', '_')}.joblib\")\n",
        "        predictions[name] = clf.predict_proba(X_test).toarray()"
      ],
      "metadata": {
        "id": "ENkYezOTolpq"
      },
      "execution_count": 22,
      "outputs": []
    },
    {
      "cell_type": "markdown",
      "source": [
        "# Evaluate"
      ],
      "metadata": {
        "id": "3T6gqiguf0ac"
      }
    },
    {
      "cell_type": "code",
      "source": [
        "def compute_metrics_top_k(eval_pred, k=3, KNN=False):\n",
        "    \"\"\"\n",
        "    Compute accuracy, top-K accuracy, and ROC AUC for multi-class classification.\n",
        "\n",
        "    Parameters:\n",
        "    - eval_pred: Tuple (logits, labels), where:\n",
        "      - logits: (N, num_classes) array of raw model outputs (before softmax)\n",
        "      - labels: (N,) array of true class indices\n",
        "    - k: Number of top predictions to consider for accuracy\n",
        "\n",
        "    Returns:\n",
        "    - Dictionary with accuracy, top-K accuracy, and ROC AUC\n",
        "    \"\"\"\n",
        "    logits, labels = eval_pred  # Unpack logits (raw scores) and true labels\n",
        "    probabilities = np.exp(logits) / np.exp(logits).sum(axis=-1, keepdims=True)  # Softmax\n",
        "\n",
        "    # Top-1 (standard accuracy)\n",
        "    predictions = np.argmax(logits, axis=-1)  # Get class with highest probability\n",
        "    acc = accuracy_score(labels, predictions)  # Standard accuracy\n",
        "\n",
        "    # Top-K Accuracy Calculation\n",
        "    top_k_predictions = np.argsort(-probabilities, axis=-1)[:, :k]  # Get top-K predicted classes\n",
        "    top_k_correct = np.any(top_k_predictions == labels[:, None], axis=-1)  # Check if true label is in top-K\n",
        "    top_k_acc = np.mean(top_k_correct)  # Compute top-K accuracy\n",
        "\n",
        "     # Top-5 Accuracy (Calculate-Ability of Classes)\n",
        "    top_5_predictions = np.argsort(-probabilities, axis=-1)[:, :5]\n",
        "    top_5_correct = np.any(top_5_predictions == labels[:, None], axis=-1)\n",
        "    top_5_acc = np.mean(top_5_correct)\n",
        "\n",
        "    # ROC AUC Calculation\n",
        "    if not KNN:\n",
        "        auc = roc_auc_multiclass(labels, probabilities)  # Compute multi-class AUC\n",
        "    else:\n",
        "        auc = None\n",
        "\n",
        "    # F1-score Calculation\n",
        "    f1 = f1_score(labels, predictions, average=\"weighted\")  # Standard F1-score\n",
        "\n",
        "    return {\n",
        "        \"eval_accuracy\": acc,\n",
        "        f\"eval_top_{k}_accuracy\": top_k_acc,\n",
        "        \"eval_top_5_accuracy\": top_5_acc,\n",
        "        \"eval_roc_auc\": auc,\n",
        "        \"eval_f1\": f1,\n",
        "    }"
      ],
      "metadata": {
        "id": "wK1ENbIWdyVs"
      },
      "execution_count": 23,
      "outputs": []
    },
    {
      "cell_type": "code",
      "source": [
        "for model_name, preds in predictions.items():\n",
        "    ALL_DATA[model_name][\"basic_stats\"] = compute_metrics_top_k((preds, y_test))"
      ],
      "metadata": {
        "id": "aTDkuEMbeIAM"
      },
      "execution_count": 32,
      "outputs": []
    },
    {
      "cell_type": "code",
      "source": [
        "ALL_DATA"
      ],
      "metadata": {
        "colab": {
          "base_uri": "https://localhost:8080/"
        },
        "id": "dPc_BxBdfuyl",
        "outputId": "15b1c0ee-3c89-4b2e-de07-35c995963539"
      },
      "execution_count": 33,
      "outputs": [
        {
          "output_type": "execute_result",
          "data": {
            "text/plain": [
              "{'FastText': {'basic_stats': {'eval_accuracy': 0.14973821989528796,\n",
              "   'eval_top_3_accuracy': 0.2617801047120419,\n",
              "   'eval_top_5_accuracy': 0.34345549738219894,\n",
              "   'eval_f1': 0.10298423933533439,\n",
              "   'eval_roc_auc': 0.6267878645721024}},\n",
              " 'Naive Bayes': {'basic_stats': {'eval_accuracy': 0.4701570680628272,\n",
              "   'eval_top_3_accuracy': 0.7141361256544503,\n",
              "   'eval_top_5_accuracy': 0.7539267015706806,\n",
              "   'eval_roc_auc': 0.7691105568688378,\n",
              "   'eval_f1': 0.3633825670909665}},\n",
              " 'Decision Tree': {'basic_stats': {'eval_accuracy': 0.4649214659685864,\n",
              "   'eval_top_3_accuracy': 0.5424083769633508,\n",
              "   'eval_top_5_accuracy': 0.5497382198952879,\n",
              "   'eval_roc_auc': 0.7087739419904361,\n",
              "   'eval_f1': 0.43417829769544297}},\n",
              " 'Support Vector': {'basic_stats': {'eval_accuracy': 0.6513089005235602,\n",
              "   'eval_top_3_accuracy': 0.8282722513089005,\n",
              "   'eval_top_5_accuracy': 0.881675392670157,\n",
              "   'eval_roc_auc': 0.9063684203991289,\n",
              "   'eval_f1': 0.6362458090842334}}}"
            ]
          },
          "metadata": {},
          "execution_count": 33
        }
      ]
    },
    {
      "cell_type": "markdown",
      "source": [
        "# Download Outputs"
      ],
      "metadata": {
        "id": "ysx4AjNxzs54"
      }
    },
    {
      "cell_type": "code",
      "source": [
        "import pickle\n",
        "\n",
        "with open(\"Assets/classic_ml_outputs.pkl\", \"wb\") as f:\n",
        "    pickle.dump(ALL_DATA, f)"
      ],
      "metadata": {
        "id": "XC5kS1uGzxs3"
      },
      "execution_count": 35,
      "outputs": []
    }
  ]
}